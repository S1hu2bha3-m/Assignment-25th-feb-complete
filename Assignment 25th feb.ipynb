{
 "cells": [
  {
   "cell_type": "code",
   "execution_count": 1,
   "id": "6c92582f-dff2-4cc7-994a-317adead2e68",
   "metadata": {},
   "outputs": [],
   "source": [
    "\n",
    "import pandas as pd\n",
    "\n",
    "course_name = ['Data Science', 'Machine Learning', 'Big Data', 'Data Engineer']\n",
    "\n",
    "duration =  [2,3,6,4]\n",
    "\n",
    "df = pd.DataFrame(data = {'course_name' : course_name, 'duration' : duration})"
   ]
  },
  {
   "cell_type": "code",
   "execution_count": 2,
   "id": "e1eab947-69bb-458a-bf43-7ed0b4feaef6",
   "metadata": {},
   "outputs": [
    {
     "data": {
      "text/html": [
       "<div>\n",
       "<style scoped>\n",
       "    .dataframe tbody tr th:only-of-type {\n",
       "        vertical-align: middle;\n",
       "    }\n",
       "\n",
       "    .dataframe tbody tr th {\n",
       "        vertical-align: top;\n",
       "    }\n",
       "\n",
       "    .dataframe thead th {\n",
       "        text-align: right;\n",
       "    }\n",
       "</style>\n",
       "<table border=\"1\" class=\"dataframe\">\n",
       "  <thead>\n",
       "    <tr style=\"text-align: right;\">\n",
       "      <th></th>\n",
       "      <th>course_name</th>\n",
       "      <th>duration</th>\n",
       "    </tr>\n",
       "  </thead>\n",
       "  <tbody>\n",
       "    <tr>\n",
       "      <th>0</th>\n",
       "      <td>Data Science</td>\n",
       "      <td>2</td>\n",
       "    </tr>\n",
       "    <tr>\n",
       "      <th>1</th>\n",
       "      <td>Machine Learning</td>\n",
       "      <td>3</td>\n",
       "    </tr>\n",
       "    <tr>\n",
       "      <th>2</th>\n",
       "      <td>Big Data</td>\n",
       "      <td>6</td>\n",
       "    </tr>\n",
       "    <tr>\n",
       "      <th>3</th>\n",
       "      <td>Data Engineer</td>\n",
       "      <td>4</td>\n",
       "    </tr>\n",
       "  </tbody>\n",
       "</table>\n",
       "</div>"
      ],
      "text/plain": [
       "        course_name  duration\n",
       "0      Data Science         2\n",
       "1  Machine Learning         3\n",
       "2          Big Data         6\n",
       "3     Data Engineer         4"
      ]
     },
     "execution_count": 2,
     "metadata": {},
     "output_type": "execute_result"
    }
   ],
   "source": [
    "df"
   ]
  },
  {
   "cell_type": "markdown",
   "id": "1d10faca-1400-4f9d-937a-ecbff5714ceb",
   "metadata": {},
   "source": [
    "Q1. Write a code to print the data present in the second row of the dataframe, df"
   ]
  },
  {
   "cell_type": "code",
   "execution_count": 3,
   "id": "6712c872-c322-4137-b256-60fbbb1fce93",
   "metadata": {},
   "outputs": [
    {
     "data": {
      "text/plain": [
       "course_name    Machine Learning\n",
       "duration                      3\n",
       "Name: 1, dtype: object"
      ]
     },
     "execution_count": 3,
     "metadata": {},
     "output_type": "execute_result"
    }
   ],
   "source": [
    "df.iloc[1]"
   ]
  },
  {
   "cell_type": "markdown",
   "id": "b1bea18c-cca7-41ce-81cc-b31c9ed81890",
   "metadata": {},
   "source": [
    "Q2. What is the difference between the functions loc and iloc in pandas.DataFrame?"
   ]
  },
  {
   "cell_type": "markdown",
   "id": "698fb02a-1322-47df-8c2b-4cc387e8e806",
   "metadata": {},
   "source": [
    "Ans. loc=>\n",
    "Selects rows and/or columns based on their labels (index or column names)."
   ]
  },
  {
   "cell_type": "code",
   "execution_count": 4,
   "id": "db123e09-4895-4338-92bc-f0807ce40d7b",
   "metadata": {},
   "outputs": [
    {
     "data": {
      "text/plain": [
       "course_name    Data Science\n",
       "duration                  2\n",
       "Name: 0, dtype: object"
      ]
     },
     "execution_count": 4,
     "metadata": {},
     "output_type": "execute_result"
    }
   ],
   "source": [
    "df.loc[0]"
   ]
  },
  {
   "cell_type": "markdown",
   "id": "65f27e32-5742-4f60-a819-3e964057cc1e",
   "metadata": {},
   "source": [
    "iloc=>\n",
    "iloc (integer-based):\n",
    "\n",
    "Selects rows and/or columns based on their positional indices (integer locations).\n"
   ]
  },
  {
   "cell_type": "code",
   "execution_count": 5,
   "id": "4f486780-cda9-4836-8e0f-519b01eb21ae",
   "metadata": {},
   "outputs": [
    {
     "data": {
      "text/plain": [
       "course_name    Machine Learning\n",
       "duration                      3\n",
       "Name: 1, dtype: object"
      ]
     },
     "execution_count": 5,
     "metadata": {},
     "output_type": "execute_result"
    }
   ],
   "source": [
    "df.iloc[1]"
   ]
  },
  {
   "cell_type": "raw",
   "id": "2a008171-9465-4eba-9b05-a6ec13af3ea3",
   "metadata": {},
   "source": [
    "Q3. Reindex the given dataframe using a variable, reindex = [3,0,1,2] and store it in the variable, new_df \n",
    "then find the output for both new_df.loc[2] and new_df.iloc[2].\n",
    "Did you observe any difference in both the outputs? If so then explain it.\n"
   ]
  },
  {
   "cell_type": "code",
   "execution_count": 6,
   "id": "2a104d58-18ac-44fb-bf3a-3552ef355331",
   "metadata": {},
   "outputs": [
    {
     "name": "stdout",
     "output_type": "stream",
     "text": [
      "        course_name  duration\n",
      "3     Data Engineer         4\n",
      "0      Data Science         2\n",
      "1  Machine Learning         3\n",
      "2          Big Data         6\n"
     ]
    }
   ],
   "source": [
    "reindex = [3, 0, 1, 2]\n",
    "\n",
    "new_df = df.reindex(reindex)\n",
    "print(new_df)"
   ]
  },
  {
   "cell_type": "code",
   "execution_count": 7,
   "id": "3a61a5e0-cbe2-496d-80fd-5d3eb9d7a143",
   "metadata": {},
   "outputs": [
    {
     "data": {
      "text/plain": [
       "'This selects the row with the label 2 (which is now \"Big Data\") in the reindexed DataFrame.\\nAfter reindexing, the labels might not correspond to the original positions.\\n'"
      ]
     },
     "execution_count": 7,
     "metadata": {},
     "output_type": "execute_result"
    }
   ],
   "source": [
    "new_df.loc[2]\n",
    "\n",
    "'''This selects the row with the label 2 (which is now \"Big Data\") in the reindexed DataFrame.\n",
    "After reindexing, the labels might not correspond to the original positions.\n",
    "'''"
   ]
  },
  {
   "cell_type": "code",
   "execution_count": 8,
   "id": "e43580a9-9706-4d10-893a-dae618aabe2a",
   "metadata": {},
   "outputs": [
    {
     "data": {
      "text/plain": [
       "course_name    Machine Learning\n",
       "duration                      3\n",
       "Name: 1, dtype: object"
      ]
     },
     "execution_count": 8,
     "metadata": {},
     "output_type": "execute_result"
    }
   ],
   "source": [
    "new_df.iloc[2]\n",
    "#This selects the row at the integer position 2 in the reindexed DataFrame.\n",
    "#It selects the third row regardless of its label."
   ]
  },
  {
   "cell_type": "markdown",
   "id": "d000d5c9-998b-448b-af0c-8e0b84436865",
   "metadata": {},
   "source": [
    "Q4. Write a code to find the following statistical measurements for the above dataframe df1:\n",
    "\n",
    "(i) \tmean of each and every column present in the dataframe.\n",
    "\n",
    "(ii) standard deviation of column, ‘column_2’"
   ]
  },
  {
   "cell_type": "code",
   "execution_count": 9,
   "id": "9b7dd57e-d7a1-4a16-99c0-6ae266de240e",
   "metadata": {},
   "outputs": [],
   "source": [
    "import pandas as pd\n",
    "\n",
    "import numpy as np\n",
    "\n",
    "columns = ['column_1', 'column_2', 'column_3', 'column_4', 'column_5', 'column_6']\n",
    "\n",
    "indices = [1,2,3,4,5,6]\n",
    "\n",
    "#Creating a dataframe:\n",
    "\n",
    "df1 = pd.DataFrame(np.random.rand(6,6), columns = columns, index = indices)\n"
   ]
  },
  {
   "cell_type": "markdown",
   "id": "db421eed-2794-4bf5-b654-a95c11824fa3",
   "metadata": {},
   "source": [
    "(i) mean of each and every column present in the dataframe."
   ]
  },
  {
   "cell_type": "code",
   "execution_count": 10,
   "id": "67eb5f60-ba67-4ce8-a81f-a7d6179842c0",
   "metadata": {},
   "outputs": [
    {
     "data": {
      "text/plain": [
       "column_1    0.552090\n",
       "column_2    0.510743\n",
       "column_3    0.658411\n",
       "column_4    0.449147\n",
       "column_5    0.529742\n",
       "column_6    0.539463\n",
       "dtype: float64"
      ]
     },
     "execution_count": 10,
     "metadata": {},
     "output_type": "execute_result"
    }
   ],
   "source": [
    "df1.mean()"
   ]
  },
  {
   "cell_type": "markdown",
   "id": "c831805a-31da-4c43-a0ed-e7e62f32c689",
   "metadata": {},
   "source": [
    "(ii) standard deviation of column, ‘column_2’"
   ]
  },
  {
   "cell_type": "code",
   "execution_count": 11,
   "id": "53495cda-175a-4d60-ba88-73d9024a2311",
   "metadata": {},
   "outputs": [
    {
     "data": {
      "text/plain": [
       "0.2614976358445773"
      ]
     },
     "execution_count": 11,
     "metadata": {},
     "output_type": "execute_result"
    }
   ],
   "source": [
    "df1['column_2'].std()"
   ]
  },
  {
   "cell_type": "markdown",
   "id": "d25b36d7-90d1-40fd-9dce-8dc7151e2e8c",
   "metadata": {},
   "source": [
    "Q5. Replace the data present in the second row of column, ‘column_2’ by a string variable then find the \n",
    "mean of column, column_2.\n",
    "\n",
    "If you are getting errors in executing it then explain why.\n",
    "\n",
    "[Hint: To replace the data use df1.loc[] and equate this to string data of your choice.]"
   ]
  },
  {
   "cell_type": "code",
   "execution_count": 16,
   "id": "b4565de4-ed4a-4495-ba6e-478f5ffb3c32",
   "metadata": {},
   "outputs": [
    {
     "name": "stdout",
     "output_type": "stream",
     "text": [
      "Data replaced in the second row of 'column_2'.\n",
      "Error: Unable to calculate mean due to data type or other issues.\n"
     ]
    }
   ],
   "source": [
    "try:\n",
    "    new_value = \"New String Value\"  # Replace with your desired string\n",
    "    df1.loc[1, 'column_2'] = new_value\n",
    "    print(\"Data replaced in the second row of 'column_2'.\")\n",
    "except IndexError:\n",
    "    print(\"Error: There are less than two rows in the DataFrame.\")\n",
    "\n",
    "# Calculate the mean of 'column_2' (after replacement, if successful)\n",
    "try:\n",
    "    mean_column_2 = df1['column_2'].mean()\n",
    "    print(\"Mean of 'column_2':\", mean_column_2)\n",
    "except:  # Catch any potential errors (e.g., non-numeric data)\n",
    "    print(\"Error: Unable to calculate mean due to data type or other issues.\")"
   ]
  },
  {
   "cell_type": "markdown",
   "id": "054a53ba-22be-43ee-ba7f-bab10fdd675d",
   "metadata": {},
   "source": [
    "Q6. What do you understand about the windows function in pandas and list the types of windows \n",
    "functions?"
   ]
  },
  {
   "cell_type": "markdown",
   "id": "e4c943db-97ee-4f4e-9c34-576617df6f1f",
   "metadata": {},
   "source": [
    "Ans. In pandas, window functions are powerful tools that allow you to perform calculations on sets of rows within a DataFrame based on a specified window. They enable you to analyze trends, moving averages, and other aggregations over a sliding or expanding window of data."
   ]
  },
  {
   "cell_type": "markdown",
   "id": "36716ff7-2a7d-4168-b2cd-3601440a77f6",
   "metadata": {},
   "source": [
    "Types of Window Functions in pandas:\n",
    "Rolling Window\n",
    "Expanding Window"
   ]
  },
  {
   "cell_type": "markdown",
   "id": "056eb93f-aab4-4c4c-b997-9067196294c3",
   "metadata": {},
   "source": [
    "Q7. Write a code to print only the current month and year at the time of answering this question.\n",
    "\n",
    "[Hint: Use pandas.datetime function]"
   ]
  },
  {
   "cell_type": "code",
   "execution_count": 17,
   "id": "25afd533-0910-4d02-8112-5c6017d5684c",
   "metadata": {},
   "outputs": [
    {
     "name": "stdout",
     "output_type": "stream",
     "text": [
      "Current Month: May, Year: 2024\n"
     ]
    }
   ],
   "source": [
    "import datetime\n",
    "now = datetime.datetime.now()\n",
    "month_name = now.strftime(\"%B\")\n",
    "year = now.strftime(\"%Y\")\n",
    "print(f\"Current Month: {month_name}, Year: {year}\")"
   ]
  },
  {
   "cell_type": "markdown",
   "id": "1e6a9ff7-8769-408a-a843-b9bb9bc3abc2",
   "metadata": {},
   "source": [
    "Q8. Write a Python program that takes in two dates as input (in the format YYYY-MM-DD) and \n",
    "calculates the difference between them in days, hours, and minutes using Pandas time delta. The \n",
    "program should prompt the user to enter the dates and display the result."
   ]
  },
  {
   "cell_type": "code",
   "execution_count": 18,
   "id": "55c8d1a4-ff59-4d56-aaa3-2bd44d285a4c",
   "metadata": {},
   "outputs": [
    {
     "name": "stdin",
     "output_type": "stream",
     "text": [
      "Enter the first date (YYYY-MM-DD):  2002-02-24\n",
      "Enter the second date (YYYY-MM-DD):  2002-02-26\n"
     ]
    },
    {
     "name": "stdout",
     "output_type": "stream",
     "text": [
      "Difference between dates:\n",
      "Days: 2\n",
      "Hours: 0\n",
      "Minutes: 0\n"
     ]
    }
   ],
   "source": [
    "import pandas as pd\n",
    "\n",
    "def calculate_date_difference():\n",
    "  \"\"\"\n",
    "  This function prompts the user for two dates, calculates the difference in days, hours, and minutes using pandas timedelta, and displays the results.\n",
    "  \"\"\"\n",
    "  try:\n",
    "    # Prompt user for dates\n",
    "    date1_str = input(\"Enter the first date (YYYY-MM-DD): \")\n",
    "    date2_str = input(\"Enter the second date (YYYY-MM-DD): \")\n",
    "\n",
    "    # Convert strings to datetime objects\n",
    "    date1 = pd.to_datetime(date1_str)\n",
    "    date2 = pd.to_datetime(date2_str)\n",
    "\n",
    "    # Calculate the time delta\n",
    "    time_delta = date2 - date1\n",
    "\n",
    "    # Extract days, hours, and minutes from the time delta\n",
    "    days = time_delta.days\n",
    "    hours = time_delta.seconds // 3600\n",
    "    minutes = (time_delta.seconds % 3600) // 60\n",
    "\n",
    "    # Print the results\n",
    "    print(f\"Difference between dates:\")\n",
    "    print(f\"Days: {days}\")\n",
    "    print(f\"Hours: {hours}\")\n",
    "    print(f\"Minutes: {minutes}\")\n",
    "\n",
    "  except ValueError:\n",
    "    print(\"Invalid date format. Please enter dates in YYYY-MM-DD format.\")\n",
    "calculate_date_difference()\n"
   ]
  },
  {
   "cell_type": "markdown",
   "id": "8b9733a3-7099-4a47-82ba-250eb3bb3638",
   "metadata": {},
   "source": [
    "Q9. Write a Python program that reads a CSV file containing categorical data and converts a specified \n",
    "column to a categorical data type. The program should prompt the user to enter the file path, column \n",
    "name, and category order, and then display the sorted data"
   ]
  },
  {
   "cell_type": "code",
   "execution_count": 1,
   "id": "f0101b4d-dbe3-436f-960f-a605cb962f90",
   "metadata": {},
   "outputs": [
    {
     "name": "stdin",
     "output_type": "stream",
     "text": [
      "Enter the CSV file path:  IPL2023_Batsman.csv\n",
      "Enter the column name to convert:  out_by\n",
      "Enter the category order (comma-separated):  Name\n"
     ]
    },
    {
     "name": "stdout",
     "output_type": "stream",
     "text": [
      "Error: Invalid category order. Please provide a list of categories.\n"
     ]
    }
   ],
   "source": [
    "import pandas as pd\n",
    "\n",
    "def convert_to_categorical(file_path, column_name, categories):\n",
    "  \"\"\"\n",
    "  This function reads a CSV file, converts a specified column to categorical data type with a given order, and displays the sorted data.\n",
    "  \"\"\"\n",
    "  try:\n",
    "    # Read the CSV file\n",
    "    df = pd.read_csv('IPL2023_Batsman.csv')\n",
    "\n",
    "    # Convert the specified column to categorical data type with custom order\n",
    "    df[column_name] = df[column_name].astype('category').cat.reorder_categories(categories)\n",
    "\n",
    "    # Sort the DataFrame by the categorical column\n",
    "    df = df.sort_values(by=column_name)\n",
    "\n",
    "    # Print the sorted DataFrame\n",
    "    print(\"Sorted data with\", column_name, \"as categorical:\")\n",
    "    print(df)\n",
    "\n",
    "  except FileNotFoundError:\n",
    "    print(f\"Error: File not found at {file_path}\")\n",
    "  except KeyError:\n",
    "    print(f\"Error: Column '{column_name}' not found in the file.\")\n",
    "  except ValueError:\n",
    "    print(\"Error: Invalid category order. Please provide a list of categories.\")\n",
    "\n",
    "# Get user input\n",
    "file_path = input(\"Enter the CSV file path: \")\n",
    "column_name = input(\"Enter the column name to convert: \")\n",
    "category_order_str = input(\"Enter the category order (comma-separated): \")\n",
    "\n",
    "# Convert string to list of categories\n",
    "categories = category_order_str.split(\",\")\n",
    "\n",
    "# Call the function\n",
    "convert_to_categorical(file_path, column_name, categories)\n"
   ]
  },
  {
   "cell_type": "markdown",
   "id": "0bd49154-bc8a-47a3-bbb4-df9d63339227",
   "metadata": {},
   "source": [
    "Q10. Write a Python program that reads a CSV file containing sales data for different products and \n",
    "visualizes the data using a stacked bar chart to show the sales of each product category over time. The \n",
    "program should prompt the user to enter the file path and display the chart."
   ]
  },
  {
   "cell_type": "code",
   "execution_count": null,
   "id": "3d06cab7-348b-4d8b-a399-b08007bd02ac",
   "metadata": {},
   "outputs": [],
   "source": [
    "import pandas as pd\n",
    "import matplotlib.pyplot as plt\n",
    "\n",
    "def visualize_sales_by_category(file_path):\n",
    "  \"\"\"\n",
    "  This function reads a CSV file containing sales data, optionally categorizes products, and displays a stacked bar chart showing sales of each category over time.\n",
    "  \"\"\"\n",
    "  try:\n",
    "    # Read the CSV file\n",
    "    df = pd.read_csv(file_path)\n",
    "\n",
    "    # Check if 'Product' and 'Date' columns exist\n",
    "    if 'Product' not in df.columns or 'Date' not in df.columns:\n",
    "        print(\"Error: 'Product' and 'Date' columns are required in the CSV.\")\n",
    "        return\n",
    "\n",
    "    # Optional: Create a 'Product Category' column based on a custom function (replace with your logic)\n",
    "    def categorize_product(product_name):\n",
    "        # Example: Categorize by first letter\n",
    "        return product_name[0]\n",
    "\n",
    "    df['Product Category'] = df['Product'].apply(categorize_product)  # Optional\n",
    "\n",
    "    # Optional: Convert 'Date' to datetime format (customize based on your date format)\n",
    "    try:\n",
    "        df['Date'] = pd.to_datetime(df['Date'])\n",
    "    except ValueError:\n",
    "        print(\"Warning: 'Date' column format might be invalid. Consider converting it to datetime format for better time-based visualization.\")\n",
    "\n",
    "    # Group by product category and date (month in this example), sum sales\n",
    "    df_grouped = df.groupby(['Product Category', df['Date'].dt.month])['Sales'].sum().unstack()\n",
    "\n",
    "    # Create the stacked bar chart\n",
    "    df_grouped.plot(kind='bar', stacked=True, colormap='Set3')\n",
    "    plt.xlabel('Month')\n",
    "    plt.ylabel('Total Sales')\n",
    "    plt.title('Sales by Product Category (Monthly)')\n",
    "    plt.legend(title='Product Category')\n",
    "    plt.xticks(rotation=0)  # Rotate x-axis labels for better readability\n",
    "    plt.tight_layout()\n",
    "    plt.show()\n",
    "\n",
    "  except FileNotFoundError:\n",
    "    print(f\"Error: File not found at {file_path}\")\n",
    "\n",
    "# Get user input\n",
    "file_path = input(\"Enter the CSV file path containing sales data: \")\n",
    "\n",
    "# Call the function\n",
    "visualize_sales_by_category(file_path)\n"
   ]
  },
  {
   "cell_type": "markdown",
   "id": "30cf6700-c456-4e37-85dc-f97fc42e7162",
   "metadata": {},
   "source": [
    "Q11. You are given a CSV file containing student data that includes the student ID and their test score. Write \n",
    "a Python program that reads the CSV file, calculates the mean, median, and mode of the test scores, and \n",
    "displays the results in a table.\n",
    "The program should do the followingM\n",
    "I Prompt the user to enter the file path of the CSV file containing the student dataR\n",
    "I Read the CSV file into a Pandas DataFrameR\n",
    "I Calculate the mean, median, and mode of the test scores using Pandas toolsR\n",
    "I Display the mean, median, and mode in a table.\n",
    "\n",
    "Assume the CSV file contains the following columnsM\n",
    "I Student ID: The ID of the studentR\n",
    "I Test Score: The score of the student's test.\n",
    "Example usage of the program:\n",
    "\n",
    "Enter the file path of the CSV file containing the student data: student_data.csv\n",
    "\n",
    "\n",
    "+-----------+--------+\n",
    "\n",
    "| Statistic | Value  |\n",
    "\n",
    "+-----------+--------+\n",
    "\n",
    "| Mean      | 79.6   |\n",
    "\n",
    "| Median    | 82     |\n",
    "\n",
    "| Mode      | 85, 90 |\n",
    "\n",
    "+-----------+--------+\n",
    "\n",
    "\n",
    "Assume that the CSV file student_data.csv contains the following data:\n",
    "\n",
    "Student ID,Test Score\n",
    "\n",
    "1,85\n",
    "\n",
    "2,90\n",
    "\n",
    "3,80\n",
    "\n",
    "4,75\n",
    "\n",
    "5,85\n",
    "\n",
    "6,82\n",
    "\n",
    "7,78\n",
    "\n",
    "8,85\n",
    "\n",
    "9,90\n",
    "\n",
    "10,85\n",
    "\n",
    "\n",
    "The program should calculate the mean, median, and mode of the test scores and display the results \n",
    "in a tabl"
   ]
  },
  {
   "cell_type": "code",
   "execution_count": null,
   "id": "b756a2cc-a956-4e02-8c09-2358954f031c",
   "metadata": {},
   "outputs": [],
   "source": [
    "import pandas as pd\n",
    "\n",
    "def calculate_and_display_statistics(file_path):\n",
    "  \"\"\"\n",
    "  This function reads a CSV file containing student data, calculates the mean, median, and mode of the test scores,\n",
    "  and displays the results in a table.\n",
    "  \"\"\"\n",
    "  try:\n",
    "    # Read the CSV file\n",
    "    df = pd.read_csv(file_path)\n",
    "\n",
    "    # Check if 'Test Score' column exists\n",
    "    if 'Test Score' not in df.columns:\n",
    "        print(\"Error: 'Test Score' column is required in the CSV.\")\n",
    "        return\n",
    "\n",
    "    # Calculate statistics\n",
    "    mean_score = df['Test Score'].mean()\n",
    "    median_score = df['Test Score'].median()\n",
    "    mode_score = df['Test Score'].mode().tolist()  # Convert mode to list\n",
    "\n",
    "    # Create a DataFrame for the table\n",
    "    stats_df = pd.DataFrame({\n",
    "        'Statistic': ['Mean', 'Median', 'Mode'],\n",
    "        'Value': [mean_score, median_score, ', '.join(map(str, mode_score))]  # Join mode values with comma and space\n",
    "    })\n",
    "\n",
    "    # Display the table\n",
    "    print(\"+-----------+--------+\")\n",
    "    print(\"| Statistic | Value  |\")\n",
    "    print(\"+-----------+--------+\")\n",
    "    print(stats_df.to_string(index=False))\n",
    "    print(\"+-----------+--------+\")\n",
    "\n",
    "  except FileNotFoundError:\n",
    "    print(f\"Error: File not found at {file_path}\")\n",
    "\n",
    "# Get user input\n",
    "file_path = input(\"Enter the file path of the CSV file containing the student data: \")\n",
    "\n",
    "# Call the function\n",
    "calculate_and_display_statistics(file_path)\n"
   ]
  },
  {
   "cell_type": "code",
   "execution_count": null,
   "id": "6e56b655-0d7f-4bf2-8127-656710c6c847",
   "metadata": {},
   "outputs": [],
   "source": []
  }
 ],
 "metadata": {
  "kernelspec": {
   "display_name": "Python 3 (ipykernel)",
   "language": "python",
   "name": "python3"
  },
  "language_info": {
   "codemirror_mode": {
    "name": "ipython",
    "version": 3
   },
   "file_extension": ".py",
   "mimetype": "text/x-python",
   "name": "python",
   "nbconvert_exporter": "python",
   "pygments_lexer": "ipython3",
   "version": "3.10.8"
  }
 },
 "nbformat": 4,
 "nbformat_minor": 5
}
